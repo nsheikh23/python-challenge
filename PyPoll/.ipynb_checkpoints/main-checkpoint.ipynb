{
 "cells": [
  {
   "cell_type": "code",
   "execution_count": 3,
   "metadata": {},
   "outputs": [],
   "source": [
    "import os\n",
    "import csv\n",
    "\n",
    "csvpath = os.path.join(\"Resources\", \"election_data.csv\")"
   ]
  },
  {
   "cell_type": "markdown",
   "metadata": {},
   "source": [
    "# Working with Lists"
   ]
  },
  {
   "cell_type": "code",
   "execution_count": 31,
   "metadata": {},
   "outputs": [
    {
     "name": "stdout",
     "output_type": "stream",
     "text": [
      "Election Results\n",
      "-------------------------\n",
      "Total Votes: 3521001\n",
      "-------------------------\n",
      "Correy: [19.999994319797125] ([704200])\n",
      "Li: [19.999994319797125, 13.999996023857989] ([704200, 492940])\n",
      "O'Tooley: [19.999994319797125, 13.999996023857989, 2.999999147969569] ([704200, 492940, 105630])\n",
      "Khan: [19.999994319797125, 13.999996023857989, 2.999999147969569, 63.00001050837531] ([704200, 492940, 105630, 2218231])\n",
      "-------------------------\n",
      "Winner: 2218231\n"
     ]
    }
   ],
   "source": [
    "total_votes = 0\n",
    "cand_lst = []\n",
    "votes = []\n",
    "pct = []\n",
    "win_lst = []\n",
    "\n",
    "# Opening the CSV file\n",
    "with open(csvpath) as csvfile:\n",
    "    csvreader = csv.reader(csvfile,delimiter=',')\n",
    "    \n",
    "# Skipping the header row\n",
    "# Able to print it out if needed\n",
    "    csvheader=next(csvreader)\n",
    "#     print(f\"CSV Header: {csvheader}\")\n",
    "\n",
    "\n",
    "# Looping through each row of the CSV file\n",
    "# ABle to print out all the rows if needed\n",
    "    \n",
    "    for row in csvreader:\n",
    "#         print(row)\n",
    "        total_votes += 1\n",
    "    \n",
    "#         Declaring index in the imported data\n",
    "#         Appending it to an empty list\n",
    "        cand_ind= row[2]\n",
    "        cand_lst.append(cand_ind)\n",
    "        \n",
    "    print(\"Election Results\")\n",
    "    print(\"-------------------------\")\n",
    "    print(f\"Total Votes: {total_votes}\")\n",
    "    print(\"-------------------------\")\n",
    "    \n",
    "    for candidate in set(cand_lst):\n",
    "        a = cand_lst.count(candidate)\n",
    "        votes.append(a)\n",
    "        b = a/total_votes*100\n",
    "        pct.append(b)\n",
    "        print(f\"{candidate}: {pct} ({votes})\")\n",
    "     \n",
    "    winner = max(votes)\n",
    "    \n",
    "    print(\"-------------------------\")\n",
    "    print(f\"Winner: {winner}\")\n",
    "    \n",
    "    "
   ]
  },
  {
   "cell_type": "code",
   "execution_count": 20,
   "metadata": {},
   "outputs": [
    {
     "data": {
      "text/plain": [
       "3521001"
      ]
     },
     "execution_count": 20,
     "metadata": {},
     "output_type": "execute_result"
    }
   ],
   "source": [
    "total_votes"
   ]
  },
  {
   "cell_type": "code",
   "execution_count": 46,
   "metadata": {},
   "outputs": [
    {
     "data": {
      "text/plain": [
       "{'Khan': 1610860, 'Correy': 1610857, 'Li': 1610854, \"O'Tooley\": 1610860}"
      ]
     },
     "execution_count": 46,
     "metadata": {},
     "output_type": "execute_result"
    }
   ],
   "source": [
    "cand_dict"
   ]
  },
  {
   "cell_type": "code",
   "execution_count": 37,
   "metadata": {},
   "outputs": [
    {
     "data": {
      "text/plain": [
       "{\"'\", 'O', 'T', 'e', 'l', 'o', 'y'}"
      ]
     },
     "execution_count": 37,
     "metadata": {},
     "output_type": "execute_result"
    }
   ],
   "source": [
    "candidates"
   ]
  },
  {
   "cell_type": "code",
   "execution_count": null,
   "metadata": {},
   "outputs": [],
   "source": []
  }
 ],
 "metadata": {
  "kernelspec": {
   "display_name": "Python 3",
   "language": "python",
   "name": "python3"
  },
  "language_info": {
   "codemirror_mode": {
    "name": "ipython",
    "version": 3
   },
   "file_extension": ".py",
   "mimetype": "text/x-python",
   "name": "python",
   "nbconvert_exporter": "python",
   "pygments_lexer": "ipython3",
   "version": "3.7.6"
  }
 },
 "nbformat": 4,
 "nbformat_minor": 4
}
