{
 "cells": [
  {
   "cell_type": "code",
   "execution_count": 1,
   "metadata": {},
   "outputs": [],
   "source": [
    "import os\n",
    "import csv\n",
    "csvpath = os.path.join('Resources','budget_data.csv')"
   ]
  },
  {
   "cell_type": "code",
   "execution_count": 32,
   "metadata": {},
   "outputs": [
    {
     "name": "stdout",
     "output_type": "stream",
     "text": [
      "Total Months: 86\n",
      "Total Revenue: $38382578\n",
      "Average Change: $-2315.12\n",
      "The Greatest Increase in Profits: Feb-2012 ($1926159)\n",
      "The Greatest Decrease in Profits: Sep-2013 ($-2196167)\n"
     ]
    }
   ],
   "source": [
    "# Declare variables and lists\n",
    "count = 0\n",
    "months = []\n",
    "revenue = []\n",
    "prev_rev = 0\n",
    "chg_lst =[]\n",
    "\n",
    "\n",
    "# Opening the CSV file\n",
    "with open(csvpath) as csvfile:\n",
    "    csvreader = csv.reader(csvfile,delimiter=',')\n",
    "    \n",
    "# Skipping the header row\n",
    "# Able to print it out if needed\n",
    "    csvheader=next(csvreader)\n",
    "#     print(f\"CSV Header: {csvheader}\")\n",
    "\n",
    "\n",
    "# Looping through each row of the CSV file\n",
    "# ABle to print out all the rows if needed\n",
    "    \n",
    "    for row in csvreader:\n",
    "#         print(row)\n",
    "        \n",
    "#         Declaring month index in the imported data\n",
    "#         Appending it to an empty list\n",
    "        mth_ind= row[0]\n",
    "        months.append(mth_ind)\n",
    "        \n",
    "#         Declaring revenue index in the imported data\n",
    "#         Appending it to an empty list\n",
    "        rev_ind= int(row[1])\n",
    "        revenue.append(rev_ind)\n",
    "        \n",
    "#         Counting the number of rows/months\n",
    "        count += 1\n",
    "    \n",
    "        if prev_rev != 0:\n",
    "            chg = rev_ind - int(prev_rev)\n",
    "            chg_lst.append(chg)\n",
    "            prev_rev = rev_ind\n",
    "        else:\n",
    "            prev_rev = rev_ind\n",
    "        \n",
    "#     Stating the number of months\n",
    "    print(f\"Total Months: {count}\")\n",
    "    \n",
    "#     Summing up the revenue list created through looping\n",
    "#     Stating the total revenue\n",
    "    total = sum(revenue)\n",
    "    print(f\"Total Revenue: ${total}\")\n",
    "    \n",
    "#     Calculating the average change\n",
    "#     Stating the average change\n",
    "    avg = round(sum(chg_lst)/len(chg_lst),2)\n",
    "    print(f\"Average Change: ${avg}\")\n",
    "    \n",
    "    g_inc = max(chg_lst)\n",
    "    g_inc_index = chg_lst.index(g_inc)\n",
    "    date1 = months[g_inc_index + 1]\n",
    "    print(f\"The Greatest Increase in Profits: {date1} (${g_inc})\")\n",
    "    \n",
    "    g_dec = min(chg_lst)\n",
    "    g_dec_index = chg_lst.index(g_dec)\n",
    "    date2 = months[g_dec_index + 1]\n",
    "    print(f\"The Greatest Decrease in Profits: {date2} (${g_dec})\")\n",
    "    \n"
   ]
  },
  {
   "cell_type": "markdown",
   "metadata": {},
   "source": [
    "# Working with Dictionaries"
   ]
  },
  {
   "cell_type": "code",
   "execution_count": 33,
   "metadata": {},
   "outputs": [],
   "source": [
    "##########################################################################\n",
    "### Working with Dictionaries\n",
    "##########################################################################\n",
    "\n",
    "# Declare variables and lists\n",
    "# count = 0\n",
    "# months = {}\n",
    "# revenue = {}\n",
    "# prev_rev = 0\n",
    "# chg_lst ={}\n",
    "\n",
    "# # Opening the CSV file\n",
    "# with open(csvpath) as csvfile:    \n",
    "#     fields = ['Date', 'Revenue']\n",
    "#     csvreader = csv.Dictreader(csvfile, fieldnames=fields, delimiter=',')"
   ]
  },
  {
   "cell_type": "code",
   "execution_count": null,
   "metadata": {},
   "outputs": [],
   "source": []
  },
  {
   "cell_type": "code",
   "execution_count": null,
   "metadata": {},
   "outputs": [],
   "source": []
  }
 ],
 "metadata": {
  "kernelspec": {
   "display_name": "Python 3",
   "language": "python",
   "name": "python3"
  },
  "language_info": {
   "codemirror_mode": {
    "name": "ipython",
    "version": 3
   },
   "file_extension": ".py",
   "mimetype": "text/x-python",
   "name": "python",
   "nbconvert_exporter": "python",
   "pygments_lexer": "ipython3",
   "version": "3.7.6"
  }
 },
 "nbformat": 4,
 "nbformat_minor": 4
}
